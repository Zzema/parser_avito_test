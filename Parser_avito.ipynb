{
 "cells": [
  {
   "cell_type": "code",
   "execution_count": 1,
   "metadata": {},
   "outputs": [],
   "source": [
    "#разобраться с библиотеками\n",
    "#считать страницу результатов авито\n",
    "#считать все объявления этой страницы\n",
    "#сформировать датафрейм из нужных данных\n",
    "#считать следующие страницы\n",
    "#попробовать забирать номера телефонов\n"
   ]
  },
  {
   "cell_type": "code",
   "execution_count": 2,
   "metadata": {},
   "outputs": [],
   "source": [
    "#!pip install selenium\n",
    "#!pip install webdriver-manager\n",
    "#!pip install pytesseract\n",
    "#!pip install tesserocr"
   ]
  },
  {
   "cell_type": "code",
   "execution_count": 3,
   "metadata": {},
   "outputs": [],
   "source": [
    "import pytesseract\n",
    "from PIL import Image\n",
    "from time import sleep"
   ]
  },
  {
   "cell_type": "code",
   "execution_count": 4,
   "metadata": {},
   "outputs": [],
   "source": [
    "import requests\n",
    "from bs4 import BeautifulSoup\n",
    "import csv\n",
    "from selenium import webdriver\n",
    "import json"
   ]
  },
  {
   "cell_type": "code",
   "execution_count": 5,
   "metadata": {},
   "outputs": [
    {
     "name": "stderr",
     "output_type": "stream",
     "text": [
      "[WDM] - Trying to download new driver from http://chromedriver.storage.googleapis.com/83.0.4103.39/chromedriver_mac64.zip\n",
      "[WDM] - Unpack archive /Users/zzema/.wdm/drivers/chromedriver/83.0.4103.39/mac64/chromedriver.zip\n"
     ]
    }
   ],
   "source": [
    "from webdriver_manager.chrome import ChromeDriverManager\n",
    "\n",
    "driver = webdriver.Chrome(ChromeDriverManager().install())"
   ]
  },
  {
   "cell_type": "code",
   "execution_count": 6,
   "metadata": {},
   "outputs": [],
   "source": [
    "driver.get('https://www.avito.ru/moskva/mebel_i_interer/kompyuternye_stoly_i_kresla-ASgBAgICAURa0E8?cd=1&geoCoords=55.6005021%2C37.7254322&radius=5&user=1')\n",
    "#webdriver.Chrome(executable_path='/path/to/chromedriver')\n",
    "#button = driver.find_element_by_xpath('//button[@class=\"button button-origin button-origin_large button-origin_full-width recommendations-show-more js-recommendations-show-more\"]').click()"
   ]
  },
  {
   "cell_type": "code",
   "execution_count": 7,
   "metadata": {},
   "outputs": [],
   "source": [
    "requiredHtml = driver.page_source"
   ]
  },
  {
   "cell_type": "code",
   "execution_count": null,
   "metadata": {},
   "outputs": [],
   "source": []
  },
  {
   "cell_type": "code",
   "execution_count": 9,
   "metadata": {},
   "outputs": [
    {
     "data": {
      "text/plain": [
       "50"
      ]
     },
     "execution_count": 9,
     "metadata": {},
     "output_type": "execute_result"
    }
   ],
   "source": [
    "#Получили массив товаров с первой страницы\n",
    "table=soup.findAll(\"div\", {\"class\": \"item_table-wrapper\"})\n",
    "len(table)"
   ]
  },
  {
   "cell_type": "code",
   "execution_count": 10,
   "metadata": {},
   "outputs": [
    {
     "data": {
      "text/plain": [
       "<div class=\"item_table-wrapper\">\n",
       "  <div class=\"description item_table-description\">\n",
       "    <div class=\"snippet-title-row\"><h3 class=\"snippet-title\" data-marker=\"item-title\" data-shape=\"default\"><a class=\"snippet-link\" href=\"/moskva/mebel_i_interer/kompyuternyy_stul_1937307220\" itemprop=\"url\" target=\"_blank\" title=\"Компьютерный стул в Москве\">Компьютерный стул</a></h3></div>    <div class=\"snippet-price-row\"><span class=\"snippet-price\" data-marker=\"item-price\" data-shape=\"default\">\n",
       " 500  ₽\n",
       "  </span></div>              \n",
       " <div class=\"data\">\n",
       "                      <div><div class=\"item-address\" data-shape=\"default\"><div itemprop=\"address\" itemscope=\"\" itemtype=\"http://schema.org/PostalAddress\"><span class=\"item-address__radius\" style=\"color: #5FA800\">\n",
       " 2 км\n",
       " </span>\n",
       "   ·       <span class=\"item-address__string\">\n",
       " Ореховый б-р\n",
       " </span><div class=\"item-address-georeferences\"><span class=\"item-address-georeferences\"><span class=\"item-address-georeferences-item\"><span class=\"item-address-georeferences-item-icons\"><i class=\"item-address-georeferences-item-icons__icon\" style=\"background-color: #4FB04F\"></i></span><span class=\"item-address-georeferences-item__content\">Красногвардейская</span></span></span></div><meta content=\"Москва\" itemprop=\"addressLocality\"/></div></div></div>       <div class=\"snippet-date-row\"><div class=\"snippet-date-info\" data-marker=\"item-date\" data-shape=\"default\" data-tooltip=\"21 мая 20:35\" flow=\"down\">\n",
       " 5 часов назад\n",
       "</div></div>   </div> </div>\n",
       "  <div class=\"item_table-aside\">\n",
       "     \n",
       "<div aria-orientation=\"horizontal\" class=\"js-item_table-extended-contacts snippet-contacts item_table-extended-contacts item_table-extended-contacts_transparent\" data-position=\"static\">\n",
       "    <button class=\"js-item-extended-contacts item-extended-contacts button button-origin\" data-from-block=\"0\" data-iscvsimpletestuser=\"true\" data-item-category-id=\"20\" data-item-id=\"1937307220\" data-marker=\"item-contact\" data-search-hash=\"470t11q5e4u8kcw848cosk888cgsckk\" style=\"\">\n",
       " Показать телефон\n",
       " </button>\n",
       "     <div class=\"item-extended-contacts-messenger\">\n",
       "       \n",
       "<span class=\"js-messenger-button\" data-marker=\"messenger-button\" data-props='{\"isOpenInNewTab\":null,\"isAuthorized\":false,\"isFullWidth\":true,\"isMiniMessenger\":true,\"isIconButton\":null,\"isHidden\":true,\"parentSelector\":\".item-with-contact\",\"hasHidePhoneOnboarding\":null,\"sellerIdHash\":null,\"itemId\":1937307220,\"itemUrl\":\"\\/moskva\\/mebel_i_interer\\/kompyuternyy_stul_1937307220\",\"itemCVViewed\":null,\"categoryId\":20,\"buttonText\":\"Написать\",\"replyTime\":null,\"logParams\":{\"wsrc\":\"s\",\"s\":\"w\"},\"experiments\":[],\"side\":null,\"useOldColors\":null,\"contactlessView\":null}' data-side=\"\"> <a class=\"button button-origin contactBar_blueColor button-origin_full-width\" style=\"\">\n",
       " Написать\n",
       " </a> </span>\n",
       " </div>\n",
       " </div>\n",
       "   </div>\n",
       "  </div>"
      ]
     },
     "execution_count": 10,
     "metadata": {},
     "output_type": "execute_result"
    }
   ],
   "source": [
    "table[0]"
   ]
  },
  {
   "cell_type": "code",
   "execution_count": 11,
   "metadata": {},
   "outputs": [
    {
     "data": {
      "text/plain": [
       "1937307220"
      ]
     },
     "execution_count": 11,
     "metadata": {},
     "output_type": "execute_result"
    }
   ],
   "source": [
    "#Находит айди объявления для того чтобы по нему потом найти кнопку: \"показать телефон\"\n",
    "def get_item_id(data):\n",
    "    temp=data.find(\"span\", {\"class\": \"js-messenger-button\"}).get('data-props')#text.strip()\n",
    "    return json.loads(temp).get(\"itemId\")\n",
    "get_item_id(table[0])"
   ]
  },
  {
   "cell_type": "code",
   "execution_count": 12,
   "metadata": {},
   "outputs": [
    {
     "name": "stdout",
     "output_type": "stream",
     "text": [
      "[{'title': 'Компьютерный стул', 'price': '500', 'metro': 'Красногвардейская', 'url': 'https://avito.ru/moskva/mebel_i_interer/kompyuternyy_stul_1937307220', 'item_id': 1937307220}]\n",
      "[{'title': 'Компьютерный стул', 'price': '500', 'metro': 'Красногвардейская', 'url': 'https://avito.ru/moskva/mebel_i_interer/kompyuternyy_stul_1937307220', 'item_id': 1937307220}, {'title': 'Компьютерный стол', 'price': '1 500', 'metro': 'Красногвардейская', 'url': 'https://avito.ru/moskva/mebel_i_interer/kompyuternyy_stol_1937563709', 'item_id': 1937563709}]\n",
      "[{'title': 'Компьютерный стул', 'price': '500', 'metro': 'Красногвардейская', 'url': 'https://avito.ru/moskva/mebel_i_interer/kompyuternyy_stul_1937307220', 'item_id': 1937307220}, {'title': 'Компьютерный стол', 'price': '1 500', 'metro': 'Красногвардейская', 'url': 'https://avito.ru/moskva/mebel_i_interer/kompyuternyy_stol_1937563709', 'item_id': 1937563709}, {'title': 'Компьютерный стол школьный стол', 'price': '4 500', 'metro': 'Зябликово', 'url': 'https://avito.ru/moskva/mebel_i_interer/kompyuternyy_stol_shkolnyy_stol_1939055124', 'item_id': 1939055124}]\n"
     ]
    }
   ],
   "source": [
    "data1=[]\n",
    "for ad in table[0:3]:\n",
    "        try:\n",
    "            div = ad.find('h3')\n",
    "            title = div.text.strip()\n",
    "        except:\n",
    "            title = ''\n",
    "        try:\n",
    "            div = ad.find('h3')\n",
    "            url = \"https://avito.ru\" + div.find('a').get('href')\n",
    "        except:\n",
    "            url = ''\n",
    "        try:\n",
    "            price = ad.find(\"span\", {\"class\": \"snippet-price\"}).text.strip('  ₽\\r\\n')\n",
    "        except:\n",
    "            price = ''\n",
    "        try:\n",
    "            div = ad.find('span', class_='item-address-georeferences-item__content')\n",
    "            metro = div.text.strip()\n",
    "        except:\n",
    "            metro = ''\n",
    "        try:\n",
    "            item_id = get_item_id(ad)\n",
    "        except:\n",
    "            item_id = ''\n",
    "        data = {'title':title,\n",
    "                'price':price,\n",
    "                'metro':metro,\n",
    "                'url':url,\n",
    "                'item_id':item_id}\n",
    "        data1.append(data)\n",
    "        print(data1)\n",
    "        sleep(0.5)"
   ]
  },
  {
   "cell_type": "code",
   "execution_count": null,
   "metadata": {},
   "outputs": [],
   "source": []
  },
  {
   "cell_type": "code",
   "execution_count": 13,
   "metadata": {},
   "outputs": [
    {
     "data": {
      "text/html": [
       "<div>\n",
       "<style scoped>\n",
       "    .dataframe tbody tr th:only-of-type {\n",
       "        vertical-align: middle;\n",
       "    }\n",
       "\n",
       "    .dataframe tbody tr th {\n",
       "        vertical-align: top;\n",
       "    }\n",
       "\n",
       "    .dataframe thead th {\n",
       "        text-align: right;\n",
       "    }\n",
       "</style>\n",
       "<table border=\"1\" class=\"dataframe\">\n",
       "  <thead>\n",
       "    <tr style=\"text-align: right;\">\n",
       "      <th></th>\n",
       "      <th>title</th>\n",
       "      <th>price</th>\n",
       "      <th>metro</th>\n",
       "      <th>url</th>\n",
       "      <th>item_id</th>\n",
       "    </tr>\n",
       "  </thead>\n",
       "  <tbody>\n",
       "    <tr>\n",
       "      <th>0</th>\n",
       "      <td>Компьютерный стул</td>\n",
       "      <td>500</td>\n",
       "      <td>Красногвардейская</td>\n",
       "      <td>https://avito.ru/moskva/mebel_i_interer/kompyu...</td>\n",
       "      <td>1937307220</td>\n",
       "    </tr>\n",
       "    <tr>\n",
       "      <th>1</th>\n",
       "      <td>Компьютерный стол</td>\n",
       "      <td>1 500</td>\n",
       "      <td>Красногвардейская</td>\n",
       "      <td>https://avito.ru/moskva/mebel_i_interer/kompyu...</td>\n",
       "      <td>1937563709</td>\n",
       "    </tr>\n",
       "    <tr>\n",
       "      <th>2</th>\n",
       "      <td>Компьютерный стол школьный стол</td>\n",
       "      <td>4 500</td>\n",
       "      <td>Зябликово</td>\n",
       "      <td>https://avito.ru/moskva/mebel_i_interer/kompyu...</td>\n",
       "      <td>1939055124</td>\n",
       "    </tr>\n",
       "  </tbody>\n",
       "</table>\n",
       "</div>"
      ],
      "text/plain": [
       "                             title  price              metro  \\\n",
       "0                Компьютерный стул    500  Красногвардейская   \n",
       "1                Компьютерный стол  1 500  Красногвардейская   \n",
       "2  Компьютерный стол школьный стол  4 500          Зябликово   \n",
       "\n",
       "                                                 url     item_id  \n",
       "0  https://avito.ru/moskva/mebel_i_interer/kompyu...  1937307220  \n",
       "1  https://avito.ru/moskva/mebel_i_interer/kompyu...  1937563709  \n",
       "2  https://avito.ru/moskva/mebel_i_interer/kompyu...  1939055124  "
      ]
     },
     "execution_count": 13,
     "metadata": {},
     "output_type": "execute_result"
    }
   ],
   "source": [
    "import pandas as pd\n",
    "data_pd=pd.DataFrame(data1)\n",
    "data_pd.head()"
   ]
  },
  {
   "cell_type": "code",
   "execution_count": 14,
   "metadata": {},
   "outputs": [],
   "source": [
    "#str1='//button[@class=\"js-item-extended-contacts\\n item-extended-contacts\\n \\n button button-origin\"]'\n",
    "#button = driver.find_element_by_xpath('//button[@class=\"js-item-extended-contacts//n item-extended-contacts//n //n button button-origin\"]')\n",
    "#button.click()\n",
    "\n",
    "#sleep(3)\n",
    "\n",
    "#driver.save_screenshot('screenshot.png')\n",
    "\n",
    "#        image = self.driver.find_element_by_xpath(\n",
    "#            '//div[@class=\"item-phone-big-number js-item-phone-big-number\"]//*')\n",
    "#        location = image.location\n",
    "#        size = image.size\n",
    "#\n",
    "#        self.crop(location, size)"
   ]
  },
  {
   "cell_type": "code",
   "execution_count": 18,
   "metadata": {},
   "outputs": [
    {
     "data": {
      "text/plain": [
       "'//button[@data-item-id=\"1937307220\"]'"
      ]
     },
     "execution_count": 18,
     "metadata": {},
     "output_type": "execute_result"
    }
   ],
   "source": [
    "str1='//button[@data-item-id=\"'+str(get_item_id(table[0]))+'\"]'\n",
    "str1"
   ]
  },
  {
   "cell_type": "code",
   "execution_count": 20,
   "metadata": {},
   "outputs": [
    {
     "data": {
      "text/plain": [
       "<selenium.webdriver.remote.webelement.WebElement (session=\"d8e1d873bb9c0c9e1e63e38503429f3b\", element=\"44c90ff5-af80-49fc-ae81-399296099ede\")>"
      ]
     },
     "execution_count": 20,
     "metadata": {},
     "output_type": "execute_result"
    }
   ],
   "source": [
    "temp1=driver.find_element_by_xpath(str1)\n",
    "temp1"
   ]
  },
  {
   "cell_type": "code",
   "execution_count": 21,
   "metadata": {},
   "outputs": [],
   "source": [
    "temp1.click()"
   ]
  },
  {
   "cell_type": "code",
   "execution_count": 26,
   "metadata": {},
   "outputs": [
    {
     "data": {
      "text/plain": [
       "True"
      ]
     },
     "execution_count": 26,
     "metadata": {},
     "output_type": "execute_result"
    }
   ],
   "source": [
    "driver.save_screenshot('screenshot.png')"
   ]
  },
  {
   "cell_type": "code",
   "execution_count": 23,
   "metadata": {},
   "outputs": [
    {
     "data": {
      "text/plain": [
       "({'x': 858, 'y': 486}, {'height': 29, 'width': 108})"
      ]
     },
     "execution_count": 23,
     "metadata": {},
     "output_type": "execute_result"
    }
   ],
   "source": [
    "temp2=driver.find_elements_by_xpath('//img[@class=\"item-extended-phone\"]')\n",
    "location = temp2[0].location\n",
    "size = temp2[0].size\n",
    "location, size"
   ]
  },
  {
   "cell_type": "code",
   "execution_count": 24,
   "metadata": {},
   "outputs": [
    {
     "data": {
      "text/plain": [
       "1"
      ]
     },
     "execution_count": 24,
     "metadata": {},
     "output_type": "execute_result"
    }
   ],
   "source": [
    "len(temp2)"
   ]
  },
  {
   "cell_type": "code",
   "execution_count": 28,
   "metadata": {},
   "outputs": [
    {
     "name": "stdout",
     "output_type": "stream",
     "text": [
      "8 926 759-04-52\n"
     ]
    }
   ],
   "source": [
    "def crop(self, location, size):\n",
    "    image = Image.open('screenshot.png')\n",
    "    x = location['x']\n",
    "    y = location['y']\n",
    "    width = size['width']\n",
    "    height = size['height']\n",
    "    img=image.crop((x, y, x+width, y+height))\n",
    "    img.save('tel.gif')\n",
    "    print(pytesseract.image_to_string(img))\n",
    "crop(driver, location, size)"
   ]
  },
  {
   "cell_type": "code",
   "execution_count": null,
   "metadata": {},
   "outputs": [],
   "source": []
  }
 ],
 "metadata": {
  "kernelspec": {
   "display_name": "Python 3",
   "language": "python",
   "name": "python3"
  },
  "language_info": {
   "codemirror_mode": {
    "name": "ipython",
    "version": 3
   },
   "file_extension": ".py",
   "mimetype": "text/x-python",
   "name": "python",
   "nbconvert_exporter": "python",
   "pygments_lexer": "ipython3",
   "version": "3.7.6"
  }
 },
 "nbformat": 4,
 "nbformat_minor": 4
}
