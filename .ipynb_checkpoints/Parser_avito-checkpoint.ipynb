{
 "cells": [
  {
   "cell_type": "code",
   "execution_count": 74,
   "metadata": {},
   "outputs": [],
   "source": [
    "#разобраться с библиотеками\n",
    "#считать страницу результатов авито\n",
    "#считать все объявления этой страницы\n",
    "#сформировать датафрейм из нужных данных\n",
    "#считать следующие страницы\n",
    "#попробовать забирать номера телефонов\n",
    "#Исключена ошибка повторной попытки считать телефон"
   ]
  },
  {
   "cell_type": "code",
   "execution_count": 75,
   "metadata": {},
   "outputs": [],
   "source": [
    "#!pip install selenium\n",
    "#!pip install webdriver-manager\n",
    "#!pip install pytesseract\n",
    "#!pip install tesserocr"
   ]
  },
  {
   "cell_type": "code",
   "execution_count": 76,
   "metadata": {},
   "outputs": [],
   "source": [
    "import pytesseract\n",
    "from PIL import Image\n",
    "from time import sleep"
   ]
  },
  {
   "cell_type": "code",
   "execution_count": 77,
   "metadata": {},
   "outputs": [],
   "source": [
    "import requests\n",
    "from bs4 import BeautifulSoup\n",
    "import csv\n",
    "from selenium import webdriver\n",
    "import json\n",
    "from selenium.webdriver.common.action_chains import ActionChains #для скролла до номера телефона"
   ]
  },
  {
   "cell_type": "code",
   "execution_count": 78,
   "metadata": {},
   "outputs": [
    {
     "name": "stderr",
     "output_type": "stream",
     "text": [
      "[WDM] - Looking for [chromedriver 83.0.4103.39 mac64] driver in cache \n",
      "[WDM] - File found in cache by path [/Users/zzema/.wdm/drivers/chromedriver/83.0.4103.39/mac64/chromedriver]\n"
     ]
    }
   ],
   "source": [
    "from webdriver_manager.chrome import ChromeDriverManager\n",
    "\n",
    "driver = webdriver.Chrome(ChromeDriverManager().install())"
   ]
  },
  {
   "cell_type": "code",
   "execution_count": 79,
   "metadata": {},
   "outputs": [],
   "source": [
    "driver.get('https://www.avito.ru/moskva/mebel_i_interer/kompyuternye_stoly_i_kresla-ASgBAgICAURa0E8?cd=1&geoCoords=55.6005021%2C37.7254322&radius=5&user=1')\n",
    "#webdriver.Chrome(executable_path='/path/to/chromedriver')\n",
    "#button = driver.find_element_by_xpath('//button[@class=\"button button-origin button-origin_large button-origin_full-width recommendations-show-more js-recommendations-show-more\"]').click()"
   ]
  },
  {
   "cell_type": "code",
   "execution_count": 80,
   "metadata": {},
   "outputs": [],
   "source": [
    "requiredHtml = driver.page_source"
   ]
  },
  {
   "cell_type": "code",
   "execution_count": 81,
   "metadata": {},
   "outputs": [
    {
     "data": {
      "text/plain": [
       "50"
      ]
     },
     "execution_count": 81,
     "metadata": {},
     "output_type": "execute_result"
    }
   ],
   "source": [
    "#Получили массив товаров с первой страницы\n",
    "soup = BeautifulSoup(requiredHtml, 'html5lib')\n",
    "table=soup.findAll(\"div\", {\"class\": \"item_table-wrapper\"})\n",
    "len(table)"
   ]
  },
  {
   "cell_type": "code",
   "execution_count": 82,
   "metadata": {},
   "outputs": [
    {
     "data": {
      "text/plain": [
       "<div class=\"item_table-wrapper\">\n",
       "  <div class=\"description item_table-description\">\n",
       "    <div class=\"snippet-title-row\"><h3 class=\"snippet-title\" data-marker=\"item-title\" data-shape=\"default\"><a class=\"snippet-link\" href=\"/moskva/mebel_i_interer/zapchast_ot_kresla_krestovina_1061845705\" itemprop=\"url\" target=\"_blank\" title=\"Запчасть от кресла крестовина в Москве\">Запчасть от кресла крестовина</a></h3></div>    <div class=\"snippet-price-row\"><span class=\"snippet-price\" data-marker=\"item-price\" data-shape=\"default\">\n",
       " 500  ₽\n",
       "  </span></div>              \n",
       " <div class=\"data\">\n",
       "                      <div><div class=\"item-address\" data-shape=\"default\"><div itemprop=\"address\" itemscope=\"\" itemtype=\"http://schema.org/PostalAddress\"><span class=\"item-address__radius\" style=\"color: #5FA800\">\n",
       " 1,5 км\n",
       " </span>\n",
       "   ·       <span class=\"item-address__string\">\n",
       " Ореховый б-р, 8\n",
       " </span><div class=\"item-address-georeferences\"><span class=\"item-address-georeferences\"><span class=\"item-address-georeferences-item\"><span class=\"item-address-georeferences-item-icons\"><i class=\"item-address-georeferences-item-icons__icon\" style=\"background-color: #4FB04F\"></i></span><span class=\"item-address-georeferences-item__content\">Домодедовская</span></span></span></div><meta content=\"Москва\" itemprop=\"addressLocality\"/></div></div></div>       <div class=\"snippet-date-row\"><div class=\"snippet-date-info\" data-marker=\"item-date\" data-shape=\"default\" data-tooltip=\"22 мая 14:48\" flow=\"down\">\n",
       " 2 часа назад\n",
       "</div></div>   </div> </div>\n",
       "  <div class=\"item_table-aside\">\n",
       "     \n",
       "<div aria-orientation=\"horizontal\" class=\"js-item_table-extended-contacts snippet-contacts item_table-extended-contacts item_table-extended-contacts_transparent\" data-position=\"static\">\n",
       "    <button class=\"js-item-extended-contacts item-extended-contacts button button-origin\" data-from-block=\"0\" data-iscvsimpletestuser=\"true\" data-item-category-id=\"20\" data-item-id=\"1061845705\" data-marker=\"item-contact\" data-search-hash=\"17o1e9x1qqo08ooos0o0g80o8o84ck0\" style=\"\">\n",
       " Показать телефон\n",
       " </button>\n",
       "     <div class=\"item-extended-contacts-messenger\">\n",
       "       \n",
       "<span class=\"js-messenger-button\" data-marker=\"messenger-button\" data-props='{\"isOpenInNewTab\":null,\"isAuthorized\":false,\"isFullWidth\":true,\"isMiniMessenger\":true,\"isIconButton\":null,\"isHidden\":true,\"parentSelector\":\".item-with-contact\",\"hasHidePhoneOnboarding\":null,\"sellerIdHash\":null,\"itemId\":1061845705,\"itemUrl\":\"\\/moskva\\/mebel_i_interer\\/zapchast_ot_kresla_krestovina_1061845705\",\"itemCVViewed\":null,\"categoryId\":20,\"buttonText\":\"Написать\",\"replyTime\":null,\"logParams\":{\"wsrc\":\"s\",\"s\":\"w\"},\"experiments\":[],\"side\":null,\"useOldColors\":null,\"contactlessView\":null}' data-side=\"\"> <a class=\"button button-origin contactBar_blueColor button-origin_full-width\" style=\"\">\n",
       " Написать\n",
       " </a> </span>\n",
       " </div>\n",
       " </div>\n",
       "   </div>\n",
       "  </div>"
      ]
     },
     "execution_count": 82,
     "metadata": {},
     "output_type": "execute_result"
    }
   ],
   "source": [
    "table[0] #элемент одного объявления, здесь есть и инфа и и блок с номером телефона, для вычисления айди объявления. которое можно было взять из ссылки, но уже взял из блока"
   ]
  },
  {
   "cell_type": "code",
   "execution_count": 12,
   "metadata": {},
   "outputs": [
    {
     "data": {
      "text/plain": [
       "1911622305"
      ]
     },
     "execution_count": 12,
     "metadata": {},
     "output_type": "execute_result"
    }
   ],
   "source": [
    "#Находит айди объявления для того чтобы по нему потом найти кнопку: \"показать телефон\"\n",
    "def get_item_id(data):\n",
    "    temp=data.find(\"span\", {\"class\": \"js-messenger-button\"}).get('data-props')#text.strip()\n",
    "    return json.loads(temp).get(\"itemId\")"
   ]
  },
  {
   "cell_type": "code",
   "execution_count": 117,
   "metadata": {},
   "outputs": [],
   "source": [
    "# вырезаем из скриншота номер телефона\n",
    "def crop(location, size,scrolly):\n",
    "    image = Image.open('screenshot.png')\n",
    "    x = location['x']\n",
    "    y = location['y']\n",
    "    width = size['width']\n",
    "    height = size['height']\n",
    "    img=image.crop((x, y-scrolly-35, x+width, y-scrolly-35+height))#40 Вычитаем, потому что ссылаемся на \"написать\" Так как блок телефона пропадает из за нежелания оставить номер\n",
    "    img.save('tel.gif')\n",
    "    return pytesseract.image_to_string(img)\n",
    "#для того чтобы телефон попал на скриншот - экран надо проскроллить, соответственно чтобы вырезать из скриншота телефон - надо учесть смещение по y"
   ]
  },
  {
   "cell_type": "code",
   "execution_count": 125,
   "metadata": {},
   "outputs": [],
   "source": [
    "def phone_extract (driver, table, i):# поиск ячейки с номером, клик по нему, если есть необходимость,\n",
    "    str1='//button[@data-item-id=\"'+str(get_item_id(table[i]))+'\"]'\n",
    "    str2=\"(//span[@class='js-messenger-button'])[\"+str(i+1)+\"]\"\n",
    "#Проверяем, не открывали ли мы телефон ранее\n",
    "    try:\n",
    "        temp1=driver.find_element_by_xpath(str1)\n",
    "        temp1.click()\n",
    "        print('vse norm')\n",
    "    except:\n",
    "#        temp1=driver.find_element_by_xpath(str2)#id+1 так как массив с единицы\n",
    "        print(\"doesn't need to click\")\n",
    "#Скроллим до нужного места в выдаче, удобнее чем заходить в каждое объявление и брать номер оттуда\n",
    "    sleep(0.5)\n",
    "    element = driver.find_element_by_xpath(str2)\n",
    "    actions = ActionChains(driver)\n",
    "    actions.move_to_element(element).perform()\n",
    "#Скриншотим экран, чтобы взять номер\n",
    "    driver.save_screenshot('screenshot.png')\n",
    "#для того чтобы телефон попал на скриншот - экран надо проскроллить, соответственно чтобы вырезать из скриншота телефон - надо учесть смещение по y\n",
    "    scrolly=driver.execute_script(\"return window.scrollY;\")\n",
    "#определяем местоположение и рамзер номера телефона\n",
    "    #temp2=driver.find_elements_by_xpath('//img[@class=\"item-extended-phone\"]')\n",
    "    location = element.location #метоположение телефона на странице\n",
    "    size = element.size #размер картинки с номером телефона\n",
    "    return crop(location, size,scrolly)"
   ]
  },
  {
   "cell_type": "code",
   "execution_count": 131,
   "metadata": {},
   "outputs": [
    {
     "name": "stdout",
     "output_type": "stream",
     "text": [
      "doesn't need to click\n",
      "[{'title': 'Запчасть от кресла крестовина', 'price': '500', 'metro': 'Домодедовская', 'url': 'https://avito.ru/moskva/mebel_i_interer/zapchast_ot_kresla_krestovina_1061845705', 'item_id': 1061845705, 'phone': '8901 779-88-19'}]\n",
      "doesn't need to click\n",
      "[{'title': 'Запчасть от кресла крестовина', 'price': '500', 'metro': 'Домодедовская', 'url': 'https://avito.ru/moskva/mebel_i_interer/zapchast_ot_kresla_krestovina_1061845705', 'item_id': 1061845705, 'phone': '8901 779-88-19'}, {'title': 'Кресло на колесиках', 'price': '400', 'metro': 'Орехово', 'url': 'https://avito.ru/moskva/mebel_i_interer/kreslo_na_kolesikah_1937993379', 'item_id': 1937993379, 'phone': '8 929 637-80-79'}]\n",
      "doesn't need to click\n",
      "[{'title': 'Запчасть от кресла крестовина', 'price': '500', 'metro': 'Домодедовская', 'url': 'https://avito.ru/moskva/mebel_i_interer/zapchast_ot_kresla_krestovina_1061845705', 'item_id': 1061845705, 'phone': '8901 779-88-19'}, {'title': 'Кресло на колесиках', 'price': '400', 'metro': 'Орехово', 'url': 'https://avito.ru/moskva/mebel_i_interer/kreslo_na_kolesikah_1937993379', 'item_id': 1937993379, 'phone': '8 929 637-80-79'}, {'title': 'Продам письменный стол', 'price': '3 000', 'metro': 'Алма-Атинская', 'url': 'https://avito.ru/moskva/mebel_i_interer/prodam_pismennyy_stol_1512085242', 'item_id': 1512085242, 'phone': '8 963 623-26-26'}]\n",
      "doesn't need to click\n",
      "[{'title': 'Запчасть от кресла крестовина', 'price': '500', 'metro': 'Домодедовская', 'url': 'https://avito.ru/moskva/mebel_i_interer/zapchast_ot_kresla_krestovina_1061845705', 'item_id': 1061845705, 'phone': '8901 779-88-19'}, {'title': 'Кресло на колесиках', 'price': '400', 'metro': 'Орехово', 'url': 'https://avito.ru/moskva/mebel_i_interer/kreslo_na_kolesikah_1937993379', 'item_id': 1937993379, 'phone': '8 929 637-80-79'}, {'title': 'Продам письменный стол', 'price': '3 000', 'metro': 'Алма-Атинская', 'url': 'https://avito.ru/moskva/mebel_i_interer/prodam_pismennyy_stol_1512085242', 'item_id': 1512085242, 'phone': '8 963 623-26-26'}, {'title': 'Кресло', 'price': '1 600', 'metro': 'Зябликово', 'url': 'https://avito.ru/moskva/mebel_i_interer/kreslo_1911622305', 'item_id': 1911622305, 'phone': ''}]\n",
      "doesn't need to click\n",
      "[{'title': 'Запчасть от кресла крестовина', 'price': '500', 'metro': 'Домодедовская', 'url': 'https://avito.ru/moskva/mebel_i_interer/zapchast_ot_kresla_krestovina_1061845705', 'item_id': 1061845705, 'phone': '8901 779-88-19'}, {'title': 'Кресло на колесиках', 'price': '400', 'metro': 'Орехово', 'url': 'https://avito.ru/moskva/mebel_i_interer/kreslo_na_kolesikah_1937993379', 'item_id': 1937993379, 'phone': '8 929 637-80-79'}, {'title': 'Продам письменный стол', 'price': '3 000', 'metro': 'Алма-Атинская', 'url': 'https://avito.ru/moskva/mebel_i_interer/prodam_pismennyy_stol_1512085242', 'item_id': 1512085242, 'phone': '8 963 623-26-26'}, {'title': 'Кресло', 'price': '1 600', 'metro': 'Зябликово', 'url': 'https://avito.ru/moskva/mebel_i_interer/kreslo_1911622305', 'item_id': 1911622305, 'phone': ''}, {'title': 'Компьютерный стол Хофф Hoff', 'price': '1 999', 'metro': 'Шипиловская', 'url': 'https://avito.ru/moskva/mebel_i_interer/kompyuternyy_stol_hoff_hoff_1932578252', 'item_id': 1932578252, 'phone': ''}]\n",
      "doesn't need to click\n",
      "[{'title': 'Запчасть от кресла крестовина', 'price': '500', 'metro': 'Домодедовская', 'url': 'https://avito.ru/moskva/mebel_i_interer/zapchast_ot_kresla_krestovina_1061845705', 'item_id': 1061845705, 'phone': '8901 779-88-19'}, {'title': 'Кресло на колесиках', 'price': '400', 'metro': 'Орехово', 'url': 'https://avito.ru/moskva/mebel_i_interer/kreslo_na_kolesikah_1937993379', 'item_id': 1937993379, 'phone': '8 929 637-80-79'}, {'title': 'Продам письменный стол', 'price': '3 000', 'metro': 'Алма-Атинская', 'url': 'https://avito.ru/moskva/mebel_i_interer/prodam_pismennyy_stol_1512085242', 'item_id': 1512085242, 'phone': '8 963 623-26-26'}, {'title': 'Кресло', 'price': '1 600', 'metro': 'Зябликово', 'url': 'https://avito.ru/moskva/mebel_i_interer/kreslo_1911622305', 'item_id': 1911622305, 'phone': ''}, {'title': 'Компьютерный стол Хофф Hoff', 'price': '1 999', 'metro': 'Шипиловская', 'url': 'https://avito.ru/moskva/mebel_i_interer/kompyuternyy_stol_hoff_hoff_1932578252', 'item_id': 1932578252, 'phone': ''}, {'title': 'Компьютерный стул', 'price': '500', 'metro': 'Красногвардейская', 'url': 'https://avito.ru/moskva/mebel_i_interer/kompyuternyy_stul_1937307220', 'item_id': 1937307220, 'phone': '8 926 759-04-52'}]\n",
      "vse norm\n",
      "[{'title': 'Запчасть от кресла крестовина', 'price': '500', 'metro': 'Домодедовская', 'url': 'https://avito.ru/moskva/mebel_i_interer/zapchast_ot_kresla_krestovina_1061845705', 'item_id': 1061845705, 'phone': '8901 779-88-19'}, {'title': 'Кресло на колесиках', 'price': '400', 'metro': 'Орехово', 'url': 'https://avito.ru/moskva/mebel_i_interer/kreslo_na_kolesikah_1937993379', 'item_id': 1937993379, 'phone': '8 929 637-80-79'}, {'title': 'Продам письменный стол', 'price': '3 000', 'metro': 'Алма-Атинская', 'url': 'https://avito.ru/moskva/mebel_i_interer/prodam_pismennyy_stol_1512085242', 'item_id': 1512085242, 'phone': '8 963 623-26-26'}, {'title': 'Кресло', 'price': '1 600', 'metro': 'Зябликово', 'url': 'https://avito.ru/moskva/mebel_i_interer/kreslo_1911622305', 'item_id': 1911622305, 'phone': ''}, {'title': 'Компьютерный стол Хофф Hoff', 'price': '1 999', 'metro': 'Шипиловская', 'url': 'https://avito.ru/moskva/mebel_i_interer/kompyuternyy_stol_hoff_hoff_1932578252', 'item_id': 1932578252, 'phone': ''}, {'title': 'Компьютерный стул', 'price': '500', 'metro': 'Красногвардейская', 'url': 'https://avito.ru/moskva/mebel_i_interer/kompyuternyy_stul_1937307220', 'item_id': 1937307220, 'phone': '8 926 759-04-52'}, {'title': 'Компьютерный стол', 'price': '1 500', 'metro': 'Красногвардейская', 'url': 'https://avito.ru/moskva/mebel_i_interer/kompyuternyy_stol_1937563709', 'item_id': 1937563709, 'phone': '8 926 759-04-52'}]\n",
      "vse norm\n",
      "[{'title': 'Запчасть от кресла крестовина', 'price': '500', 'metro': 'Домодедовская', 'url': 'https://avito.ru/moskva/mebel_i_interer/zapchast_ot_kresla_krestovina_1061845705', 'item_id': 1061845705, 'phone': '8901 779-88-19'}, {'title': 'Кресло на колесиках', 'price': '400', 'metro': 'Орехово', 'url': 'https://avito.ru/moskva/mebel_i_interer/kreslo_na_kolesikah_1937993379', 'item_id': 1937993379, 'phone': '8 929 637-80-79'}, {'title': 'Продам письменный стол', 'price': '3 000', 'metro': 'Алма-Атинская', 'url': 'https://avito.ru/moskva/mebel_i_interer/prodam_pismennyy_stol_1512085242', 'item_id': 1512085242, 'phone': '8 963 623-26-26'}, {'title': 'Кресло', 'price': '1 600', 'metro': 'Зябликово', 'url': 'https://avito.ru/moskva/mebel_i_interer/kreslo_1911622305', 'item_id': 1911622305, 'phone': ''}, {'title': 'Компьютерный стол Хофф Hoff', 'price': '1 999', 'metro': 'Шипиловская', 'url': 'https://avito.ru/moskva/mebel_i_interer/kompyuternyy_stol_hoff_hoff_1932578252', 'item_id': 1932578252, 'phone': ''}, {'title': 'Компьютерный стул', 'price': '500', 'metro': 'Красногвардейская', 'url': 'https://avito.ru/moskva/mebel_i_interer/kompyuternyy_stul_1937307220', 'item_id': 1937307220, 'phone': '8 926 759-04-52'}, {'title': 'Компьютерный стол', 'price': '1 500', 'metro': 'Красногвардейская', 'url': 'https://avito.ru/moskva/mebel_i_interer/kompyuternyy_stol_1937563709', 'item_id': 1937563709, 'phone': '8 926 759-04-52'}, {'title': 'Компьютерный стол школьный стол', 'price': '4 500', 'metro': 'Зябликово', 'url': 'https://avito.ru/moskva/mebel_i_interer/kompyuternyy_stol_shkolnyy_stol_1939055124', 'item_id': 1939055124, 'phone': '8926 172-66-75'}]\n",
      "vse norm\n",
      "[{'title': 'Запчасть от кресла крестовина', 'price': '500', 'metro': 'Домодедовская', 'url': 'https://avito.ru/moskva/mebel_i_interer/zapchast_ot_kresla_krestovina_1061845705', 'item_id': 1061845705, 'phone': '8901 779-88-19'}, {'title': 'Кресло на колесиках', 'price': '400', 'metro': 'Орехово', 'url': 'https://avito.ru/moskva/mebel_i_interer/kreslo_na_kolesikah_1937993379', 'item_id': 1937993379, 'phone': '8 929 637-80-79'}, {'title': 'Продам письменный стол', 'price': '3 000', 'metro': 'Алма-Атинская', 'url': 'https://avito.ru/moskva/mebel_i_interer/prodam_pismennyy_stol_1512085242', 'item_id': 1512085242, 'phone': '8 963 623-26-26'}, {'title': 'Кресло', 'price': '1 600', 'metro': 'Зябликово', 'url': 'https://avito.ru/moskva/mebel_i_interer/kreslo_1911622305', 'item_id': 1911622305, 'phone': ''}, {'title': 'Компьютерный стол Хофф Hoff', 'price': '1 999', 'metro': 'Шипиловская', 'url': 'https://avito.ru/moskva/mebel_i_interer/kompyuternyy_stol_hoff_hoff_1932578252', 'item_id': 1932578252, 'phone': ''}, {'title': 'Компьютерный стул', 'price': '500', 'metro': 'Красногвардейская', 'url': 'https://avito.ru/moskva/mebel_i_interer/kompyuternyy_stul_1937307220', 'item_id': 1937307220, 'phone': '8 926 759-04-52'}, {'title': 'Компьютерный стол', 'price': '1 500', 'metro': 'Красногвардейская', 'url': 'https://avito.ru/moskva/mebel_i_interer/kompyuternyy_stol_1937563709', 'item_id': 1937563709, 'phone': '8 926 759-04-52'}, {'title': 'Компьютерный стол школьный стол', 'price': '4 500', 'metro': 'Зябликово', 'url': 'https://avito.ru/moskva/mebel_i_interer/kompyuternyy_stol_shkolnyy_stol_1939055124', 'item_id': 1939055124, 'phone': '8926 172-66-75'}, {'title': 'Стул-кресло IKEA фанбюн', 'price': '4 000', 'metro': 'Орехово', 'url': 'https://avito.ru/moskva/mebel_i_interer/stul-kreslo_ikea_fanbyun_1598997901', 'item_id': 1598997901, 'phone': '8919 479-93-22'}]\n"
     ]
    },
    {
     "name": "stdout",
     "output_type": "stream",
     "text": [
      "vse norm\n",
      "[{'title': 'Запчасть от кресла крестовина', 'price': '500', 'metro': 'Домодедовская', 'url': 'https://avito.ru/moskva/mebel_i_interer/zapchast_ot_kresla_krestovina_1061845705', 'item_id': 1061845705, 'phone': '8901 779-88-19'}, {'title': 'Кресло на колесиках', 'price': '400', 'metro': 'Орехово', 'url': 'https://avito.ru/moskva/mebel_i_interer/kreslo_na_kolesikah_1937993379', 'item_id': 1937993379, 'phone': '8 929 637-80-79'}, {'title': 'Продам письменный стол', 'price': '3 000', 'metro': 'Алма-Атинская', 'url': 'https://avito.ru/moskva/mebel_i_interer/prodam_pismennyy_stol_1512085242', 'item_id': 1512085242, 'phone': '8 963 623-26-26'}, {'title': 'Кресло', 'price': '1 600', 'metro': 'Зябликово', 'url': 'https://avito.ru/moskva/mebel_i_interer/kreslo_1911622305', 'item_id': 1911622305, 'phone': ''}, {'title': 'Компьютерный стол Хофф Hoff', 'price': '1 999', 'metro': 'Шипиловская', 'url': 'https://avito.ru/moskva/mebel_i_interer/kompyuternyy_stol_hoff_hoff_1932578252', 'item_id': 1932578252, 'phone': ''}, {'title': 'Компьютерный стул', 'price': '500', 'metro': 'Красногвардейская', 'url': 'https://avito.ru/moskva/mebel_i_interer/kompyuternyy_stul_1937307220', 'item_id': 1937307220, 'phone': '8 926 759-04-52'}, {'title': 'Компьютерный стол', 'price': '1 500', 'metro': 'Красногвардейская', 'url': 'https://avito.ru/moskva/mebel_i_interer/kompyuternyy_stol_1937563709', 'item_id': 1937563709, 'phone': '8 926 759-04-52'}, {'title': 'Компьютерный стол школьный стол', 'price': '4 500', 'metro': 'Зябликово', 'url': 'https://avito.ru/moskva/mebel_i_interer/kompyuternyy_stol_shkolnyy_stol_1939055124', 'item_id': 1939055124, 'phone': '8926 172-66-75'}, {'title': 'Стул-кресло IKEA фанбюн', 'price': '4 000', 'metro': 'Орехово', 'url': 'https://avito.ru/moskva/mebel_i_interer/stul-kreslo_ikea_fanbyun_1598997901', 'item_id': 1598997901, 'phone': '8919 479-93-22'}, {'title': 'Стол обеденный или письменный IKEA', 'price': '6 000', 'metro': 'Орехово', 'url': 'https://avito.ru/moskva/mebel_i_interer/stol_obedennyy_ili_pismennyy_ikea_1643534531', 'item_id': 1643534531, 'phone': '8919 479-93-22'}]\n",
      "vse norm\n",
      "[{'title': 'Запчасть от кресла крестовина', 'price': '500', 'metro': 'Домодедовская', 'url': 'https://avito.ru/moskva/mebel_i_interer/zapchast_ot_kresla_krestovina_1061845705', 'item_id': 1061845705, 'phone': '8901 779-88-19'}, {'title': 'Кресло на колесиках', 'price': '400', 'metro': 'Орехово', 'url': 'https://avito.ru/moskva/mebel_i_interer/kreslo_na_kolesikah_1937993379', 'item_id': 1937993379, 'phone': '8 929 637-80-79'}, {'title': 'Продам письменный стол', 'price': '3 000', 'metro': 'Алма-Атинская', 'url': 'https://avito.ru/moskva/mebel_i_interer/prodam_pismennyy_stol_1512085242', 'item_id': 1512085242, 'phone': '8 963 623-26-26'}, {'title': 'Кресло', 'price': '1 600', 'metro': 'Зябликово', 'url': 'https://avito.ru/moskva/mebel_i_interer/kreslo_1911622305', 'item_id': 1911622305, 'phone': ''}, {'title': 'Компьютерный стол Хофф Hoff', 'price': '1 999', 'metro': 'Шипиловская', 'url': 'https://avito.ru/moskva/mebel_i_interer/kompyuternyy_stol_hoff_hoff_1932578252', 'item_id': 1932578252, 'phone': ''}, {'title': 'Компьютерный стул', 'price': '500', 'metro': 'Красногвардейская', 'url': 'https://avito.ru/moskva/mebel_i_interer/kompyuternyy_stul_1937307220', 'item_id': 1937307220, 'phone': '8 926 759-04-52'}, {'title': 'Компьютерный стол', 'price': '1 500', 'metro': 'Красногвардейская', 'url': 'https://avito.ru/moskva/mebel_i_interer/kompyuternyy_stol_1937563709', 'item_id': 1937563709, 'phone': '8 926 759-04-52'}, {'title': 'Компьютерный стол школьный стол', 'price': '4 500', 'metro': 'Зябликово', 'url': 'https://avito.ru/moskva/mebel_i_interer/kompyuternyy_stol_shkolnyy_stol_1939055124', 'item_id': 1939055124, 'phone': '8926 172-66-75'}, {'title': 'Стул-кресло IKEA фанбюн', 'price': '4 000', 'metro': 'Орехово', 'url': 'https://avito.ru/moskva/mebel_i_interer/stul-kreslo_ikea_fanbyun_1598997901', 'item_id': 1598997901, 'phone': '8919 479-93-22'}, {'title': 'Стол обеденный или письменный IKEA', 'price': '6 000', 'metro': 'Орехово', 'url': 'https://avito.ru/moskva/mebel_i_interer/stol_obedennyy_ili_pismennyy_ikea_1643534531', 'item_id': 1643534531, 'phone': '8919 479-93-22'}, {'title': 'Стол компьютерный угловой', 'price': '3 000', 'metro': 'Орехово', 'url': 'https://avito.ru/moskva/mebel_i_interer/stol_kompyuternyy_uglovoy_1935888284', 'item_id': 1935888284, 'phone': '8926 122-77-15'}]\n"
     ]
    },
    {
     "ename": "AttributeError",
     "evalue": "'NoneType' object has no attribute 'get'",
     "output_type": "error",
     "traceback": [
      "\u001b[0;31m---------------------------------------------------------------------------\u001b[0m",
      "\u001b[0;31mAttributeError\u001b[0m                            Traceback (most recent call last)",
      "\u001b[0;32m<ipython-input-131-5a96cada72cc>\u001b[0m in \u001b[0;36m<module>\u001b[0;34m\u001b[0m\n\u001b[1;32m     29\u001b[0m                 \u001b[0;34m'url'\u001b[0m\u001b[0;34m:\u001b[0m\u001b[0murl\u001b[0m\u001b[0;34m,\u001b[0m\u001b[0;34m\u001b[0m\u001b[0;34m\u001b[0m\u001b[0m\n\u001b[1;32m     30\u001b[0m                 \u001b[0;34m'item_id'\u001b[0m\u001b[0;34m:\u001b[0m\u001b[0mitem_id\u001b[0m\u001b[0;34m,\u001b[0m\u001b[0;34m\u001b[0m\u001b[0;34m\u001b[0m\u001b[0m\n\u001b[0;32m---> 31\u001b[0;31m                'phone':phone_extract (driver, table, i)}\n\u001b[0m\u001b[1;32m     32\u001b[0m         \u001b[0mdata1\u001b[0m\u001b[0;34m.\u001b[0m\u001b[0mappend\u001b[0m\u001b[0;34m(\u001b[0m\u001b[0mdata\u001b[0m\u001b[0;34m)\u001b[0m\u001b[0;34m\u001b[0m\u001b[0;34m\u001b[0m\u001b[0m\n\u001b[1;32m     33\u001b[0m         \u001b[0mprint\u001b[0m\u001b[0;34m(\u001b[0m\u001b[0mdata1\u001b[0m\u001b[0;34m)\u001b[0m\u001b[0;34m\u001b[0m\u001b[0;34m\u001b[0m\u001b[0m\n",
      "\u001b[0;32m<ipython-input-125-a0a33e12a974>\u001b[0m in \u001b[0;36mphone_extract\u001b[0;34m(driver, table, i)\u001b[0m\n\u001b[1;32m      1\u001b[0m \u001b[0;32mdef\u001b[0m \u001b[0mphone_extract\u001b[0m \u001b[0;34m(\u001b[0m\u001b[0mdriver\u001b[0m\u001b[0;34m,\u001b[0m \u001b[0mtable\u001b[0m\u001b[0;34m,\u001b[0m \u001b[0mi\u001b[0m\u001b[0;34m)\u001b[0m\u001b[0;34m:\u001b[0m\u001b[0;31m# поиск ячейки с номером, клик по нему, если есть необходимость,\u001b[0m\u001b[0;34m\u001b[0m\u001b[0;34m\u001b[0m\u001b[0m\n\u001b[0;32m----> 2\u001b[0;31m     \u001b[0mstr1\u001b[0m\u001b[0;34m=\u001b[0m\u001b[0;34m'//button[@data-item-id=\"'\u001b[0m\u001b[0;34m+\u001b[0m\u001b[0mstr\u001b[0m\u001b[0;34m(\u001b[0m\u001b[0mget_item_id\u001b[0m\u001b[0;34m(\u001b[0m\u001b[0mtable\u001b[0m\u001b[0;34m[\u001b[0m\u001b[0mi\u001b[0m\u001b[0;34m]\u001b[0m\u001b[0;34m)\u001b[0m\u001b[0;34m)\u001b[0m\u001b[0;34m+\u001b[0m\u001b[0;34m'\"]'\u001b[0m\u001b[0;34m\u001b[0m\u001b[0;34m\u001b[0m\u001b[0m\n\u001b[0m\u001b[1;32m      3\u001b[0m     \u001b[0mstr2\u001b[0m\u001b[0;34m=\u001b[0m\u001b[0;34m\"(//span[@class='js-messenger-button'])[\"\u001b[0m\u001b[0;34m+\u001b[0m\u001b[0mstr\u001b[0m\u001b[0;34m(\u001b[0m\u001b[0mi\u001b[0m\u001b[0;34m+\u001b[0m\u001b[0;36m1\u001b[0m\u001b[0;34m)\u001b[0m\u001b[0;34m+\u001b[0m\u001b[0;34m\"]\"\u001b[0m\u001b[0;34m\u001b[0m\u001b[0;34m\u001b[0m\u001b[0m\n\u001b[1;32m      4\u001b[0m \u001b[0;31m#Проверяем, не открывали ли мы телефон ранее\u001b[0m\u001b[0;34m\u001b[0m\u001b[0;34m\u001b[0m\u001b[0;34m\u001b[0m\u001b[0m\n\u001b[1;32m      5\u001b[0m     \u001b[0;32mtry\u001b[0m\u001b[0;34m:\u001b[0m\u001b[0;34m\u001b[0m\u001b[0;34m\u001b[0m\u001b[0m\n",
      "\u001b[0;32m<ipython-input-12-b659bacd029e>\u001b[0m in \u001b[0;36mget_item_id\u001b[0;34m(data)\u001b[0m\n\u001b[1;32m      1\u001b[0m \u001b[0;31m#Находит айди объявления для того чтобы по нему потом найти кнопку: \"показать телефон\"\u001b[0m\u001b[0;34m\u001b[0m\u001b[0;34m\u001b[0m\u001b[0;34m\u001b[0m\u001b[0m\n\u001b[1;32m      2\u001b[0m \u001b[0;32mdef\u001b[0m \u001b[0mget_item_id\u001b[0m\u001b[0;34m(\u001b[0m\u001b[0mdata\u001b[0m\u001b[0;34m)\u001b[0m\u001b[0;34m:\u001b[0m\u001b[0;34m\u001b[0m\u001b[0;34m\u001b[0m\u001b[0m\n\u001b[0;32m----> 3\u001b[0;31m     \u001b[0mtemp\u001b[0m\u001b[0;34m=\u001b[0m\u001b[0mdata\u001b[0m\u001b[0;34m.\u001b[0m\u001b[0mfind\u001b[0m\u001b[0;34m(\u001b[0m\u001b[0;34m\"span\"\u001b[0m\u001b[0;34m,\u001b[0m \u001b[0;34m{\u001b[0m\u001b[0;34m\"class\"\u001b[0m\u001b[0;34m:\u001b[0m \u001b[0;34m\"js-messenger-button\"\u001b[0m\u001b[0;34m}\u001b[0m\u001b[0;34m)\u001b[0m\u001b[0;34m.\u001b[0m\u001b[0mget\u001b[0m\u001b[0;34m(\u001b[0m\u001b[0;34m'data-props'\u001b[0m\u001b[0;34m)\u001b[0m\u001b[0;31m#text.strip()\u001b[0m\u001b[0;34m\u001b[0m\u001b[0;34m\u001b[0m\u001b[0m\n\u001b[0m\u001b[1;32m      4\u001b[0m     \u001b[0;32mreturn\u001b[0m \u001b[0mjson\u001b[0m\u001b[0;34m.\u001b[0m\u001b[0mloads\u001b[0m\u001b[0;34m(\u001b[0m\u001b[0mtemp\u001b[0m\u001b[0;34m)\u001b[0m\u001b[0;34m.\u001b[0m\u001b[0mget\u001b[0m\u001b[0;34m(\u001b[0m\u001b[0;34m\"itemId\"\u001b[0m\u001b[0;34m)\u001b[0m\u001b[0;34m\u001b[0m\u001b[0;34m\u001b[0m\u001b[0m\n\u001b[1;32m      5\u001b[0m \u001b[0mget_item_id\u001b[0m\u001b[0;34m(\u001b[0m\u001b[0mtable\u001b[0m\u001b[0;34m[\u001b[0m\u001b[0;36m0\u001b[0m\u001b[0;34m]\u001b[0m\u001b[0;34m)\u001b[0m\u001b[0;34m\u001b[0m\u001b[0;34m\u001b[0m\u001b[0m\n",
      "\u001b[0;31mAttributeError\u001b[0m: 'NoneType' object has no attribute 'get'"
     ]
    }
   ],
   "source": [
    "data1=[]\n",
    "for i, ad in enumerate(table):\n",
    "        try:\n",
    "            div = ad.find('h3')\n",
    "            title = div.text.strip()\n",
    "        except:\n",
    "            title = ''\n",
    "        try:\n",
    "            div = ad.find('h3')\n",
    "            url = \"https://avito.ru\" + div.find('a').get('href')\n",
    "        except:\n",
    "            url = ''\n",
    "        try:\n",
    "            price = ad.find(\"span\", {\"class\": \"snippet-price\"}).text.strip('  ₽\\r\\n')\n",
    "        except:\n",
    "            price = ''\n",
    "        try:\n",
    "            div = ad.find('span', class_='item-address-georeferences-item__content')\n",
    "            metro = div.text.strip()\n",
    "        except:\n",
    "            metro = ''\n",
    "        try:\n",
    "            item_id = get_item_id(ad)\n",
    "        except:\n",
    "            item_id = ''\n",
    "        data = {'title':title,\n",
    "                'price':price,\n",
    "                'metro':metro,\n",
    "                'url':url,\n",
    "                'item_id':item_id,\n",
    "               'phone':phone_extract (driver, table, i)}\n",
    "        data1.append(data)\n",
    "        print(data1)\n",
    "        sleep(3)"
   ]
  },
  {
   "cell_type": "code",
   "execution_count": null,
   "metadata": {},
   "outputs": [],
   "source": []
  },
  {
   "cell_type": "code",
   "execution_count": 132,
   "metadata": {},
   "outputs": [
    {
     "data": {
      "text/html": [
       "<div>\n",
       "<style scoped>\n",
       "    .dataframe tbody tr th:only-of-type {\n",
       "        vertical-align: middle;\n",
       "    }\n",
       "\n",
       "    .dataframe tbody tr th {\n",
       "        vertical-align: top;\n",
       "    }\n",
       "\n",
       "    .dataframe thead th {\n",
       "        text-align: right;\n",
       "    }\n",
       "</style>\n",
       "<table border=\"1\" class=\"dataframe\">\n",
       "  <thead>\n",
       "    <tr style=\"text-align: right;\">\n",
       "      <th></th>\n",
       "      <th>title</th>\n",
       "      <th>price</th>\n",
       "      <th>metro</th>\n",
       "      <th>url</th>\n",
       "      <th>item_id</th>\n",
       "      <th>phone</th>\n",
       "    </tr>\n",
       "  </thead>\n",
       "  <tbody>\n",
       "    <tr>\n",
       "      <th>0</th>\n",
       "      <td>Запчасть от кресла крестовина</td>\n",
       "      <td>500</td>\n",
       "      <td>Домодедовская</td>\n",
       "      <td>https://avito.ru/moskva/mebel_i_interer/zapcha...</td>\n",
       "      <td>1061845705</td>\n",
       "      <td>8901 779-88-19</td>\n",
       "    </tr>\n",
       "    <tr>\n",
       "      <th>1</th>\n",
       "      <td>Кресло на колесиках</td>\n",
       "      <td>400</td>\n",
       "      <td>Орехово</td>\n",
       "      <td>https://avito.ru/moskva/mebel_i_interer/kreslo...</td>\n",
       "      <td>1937993379</td>\n",
       "      <td>8 929 637-80-79</td>\n",
       "    </tr>\n",
       "    <tr>\n",
       "      <th>2</th>\n",
       "      <td>Продам письменный стол</td>\n",
       "      <td>3 000</td>\n",
       "      <td>Алма-Атинская</td>\n",
       "      <td>https://avito.ru/moskva/mebel_i_interer/prodam...</td>\n",
       "      <td>1512085242</td>\n",
       "      <td>8 963 623-26-26</td>\n",
       "    </tr>\n",
       "    <tr>\n",
       "      <th>3</th>\n",
       "      <td>Кресло</td>\n",
       "      <td>1 600</td>\n",
       "      <td>Зябликово</td>\n",
       "      <td>https://avito.ru/moskva/mebel_i_interer/kreslo...</td>\n",
       "      <td>1911622305</td>\n",
       "      <td></td>\n",
       "    </tr>\n",
       "    <tr>\n",
       "      <th>4</th>\n",
       "      <td>Компьютерный стол Хофф Hoff</td>\n",
       "      <td>1 999</td>\n",
       "      <td>Шипиловская</td>\n",
       "      <td>https://avito.ru/moskva/mebel_i_interer/kompyu...</td>\n",
       "      <td>1932578252</td>\n",
       "      <td></td>\n",
       "    </tr>\n",
       "  </tbody>\n",
       "</table>\n",
       "</div>"
      ],
      "text/plain": [
       "                           title  price          metro  \\\n",
       "0  Запчасть от кресла крестовина    500  Домодедовская   \n",
       "1            Кресло на колесиках    400        Орехово   \n",
       "2         Продам письменный стол  3 000  Алма-Атинская   \n",
       "3                         Кресло  1 600      Зябликово   \n",
       "4    Компьютерный стол Хофф Hoff  1 999    Шипиловская   \n",
       "\n",
       "                                                 url     item_id  \\\n",
       "0  https://avito.ru/moskva/mebel_i_interer/zapcha...  1061845705   \n",
       "1  https://avito.ru/moskva/mebel_i_interer/kreslo...  1937993379   \n",
       "2  https://avito.ru/moskva/mebel_i_interer/prodam...  1512085242   \n",
       "3  https://avito.ru/moskva/mebel_i_interer/kreslo...  1911622305   \n",
       "4  https://avito.ru/moskva/mebel_i_interer/kompyu...  1932578252   \n",
       "\n",
       "             phone  \n",
       "0   8901 779-88-19  \n",
       "1  8 929 637-80-79  \n",
       "2  8 963 623-26-26  \n",
       "3                   \n",
       "4                   "
      ]
     },
     "execution_count": 132,
     "metadata": {},
     "output_type": "execute_result"
    }
   ],
   "source": [
    "import pandas as pd\n",
    "data_pd=pd.DataFrame(data1)\n",
    "data_pd.head()"
   ]
  },
  {
   "cell_type": "code",
   "execution_count": null,
   "metadata": {},
   "outputs": [],
   "source": []
  },
  {
   "cell_type": "code",
   "execution_count": 126,
   "metadata": {},
   "outputs": [
    {
     "name": "stdout",
     "output_type": "stream",
     "text": [
      "doesn't need to click\n"
     ]
    },
    {
     "data": {
      "text/plain": [
       "'8 926 759-04-52'"
      ]
     },
     "execution_count": 126,
     "metadata": {},
     "output_type": "execute_result"
    }
   ],
   "source": [
    "phone_extract (driver, table, 5)"
   ]
  },
  {
   "cell_type": "code",
   "execution_count": null,
   "metadata": {},
   "outputs": [],
   "source": []
  },
  {
   "cell_type": "code",
   "execution_count": null,
   "metadata": {},
   "outputs": [],
   "source": []
  },
  {
   "cell_type": "code",
   "execution_count": null,
   "metadata": {},
   "outputs": [],
   "source": []
  },
  {
   "cell_type": "code",
   "execution_count": 70,
   "metadata": {},
   "outputs": [
    {
     "data": {
      "text/plain": [
       "76"
      ]
     },
     "execution_count": 70,
     "metadata": {},
     "output_type": "execute_result"
    }
   ],
   "source": [
    "driver.execute_script(\"return window.scrollY;\")"
   ]
  }
 ],
 "metadata": {
  "kernelspec": {
   "display_name": "Python 3",
   "language": "python",
   "name": "python3"
  },
  "language_info": {
   "codemirror_mode": {
    "name": "ipython",
    "version": 3
   },
   "file_extension": ".py",
   "mimetype": "text/x-python",
   "name": "python",
   "nbconvert_exporter": "python",
   "pygments_lexer": "ipython3",
   "version": "3.7.6"
  }
 },
 "nbformat": 4,
 "nbformat_minor": 4
}
